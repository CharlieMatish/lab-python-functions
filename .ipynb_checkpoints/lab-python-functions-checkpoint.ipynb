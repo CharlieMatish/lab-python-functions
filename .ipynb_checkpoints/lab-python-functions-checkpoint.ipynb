{
 "cells": [
  {
   "cell_type": "markdown",
   "id": "25d7736c-ba17-4aff-b6bb-66eba20fbf4e",
   "metadata": {},
   "source": [
    "# Lab | Functions"
   ]
  },
  {
   "cell_type": "markdown",
   "id": "0c581062-8967-4d93-b06e-62833222f930",
   "metadata": {
    "tags": []
   },
   "source": [
    "## Exercise: Managing Customer Orders with Functions\n",
    "\n",
    "In the previous exercise, you improved the code for managing customer orders by using loops and flow control. Now, let's take it a step further and refactor the code by introducing functions.\n",
    "\n",
    "Follow the steps below to complete the exercise:\n",
    "\n",
    "1. Define a function named `initialize_inventory` that takes `products` as a parameter. Inside the function, implement the code for initializing the inventory dictionary using a loop and user input.\n",
    "\n",
    "2. Define a function named `get_customer_orders` that takes no parameters. Inside the function, implement the code for prompting the user to enter the product names using a loop. The function should return the `customer_orders` set.\n",
    "\n",
    "3. Define a function named `update_inventory` that takes `customer_orders` and `inventory` as parameters. Inside the function, implement the code for updating the inventory dictionary based on the customer orders.\n",
    "\n",
    "4. Define a function named `calculate_order_statistics` that takes `customer_orders` and `products` as parameters. Inside the function, implement the code for calculating the order statistics (total products ordered, and percentage of unique products ordered). The function should return these values.\n",
    "\n",
    "5. Define a function named `print_order_statistics` that takes `order_statistics` as a parameter. Inside the function, implement the code for printing the order statistics.\n",
    "\n",
    "6. Define a function named `print_updated_inventory` that takes `inventory` as a parameter. Inside the function, implement the code for printing the updated inventory.\n",
    "\n",
    "7. Call the functions in the appropriate sequence to execute the program and manage customer orders.\n",
    "\n",
    "Hints for functions:\n",
    "\n",
    "- Consider the input parameters required for each function and their return values.\n",
    "- Utilize function parameters and return values to transfer data between functions.\n",
    "- Test your functions individually to ensure they work correctly.\n",
    "\n",
    "\n"
   ]
  },
  {
   "cell_type": "code",
   "execution_count": 3,
   "id": "8739abe1-f6ea-4ca4-9eee-b9d178f60837",
   "metadata": {},
   "outputs": [
    {
     "name": "stdin",
     "output_type": "stream",
     "text": [
      "Enter the initial stock for t-shirt:  10\n",
      "Enter the initial stock for mug:  20\n",
      "Enter the initial stock for hat:  30\n",
      "Enter the initial stock for book:  40\n",
      "Enter the initial stock for keychain:  50\n"
     ]
    },
    {
     "name": "stdout",
     "output_type": "stream",
     "text": [
      "Initialized Inventory: {'t-shirt': 10, 'mug': 20, 'hat': 30, 'book': 40, 'keychain': 50}\n"
     ]
    }
   ],
   "source": [
    "#1) Define a function named initialize_inventory that takes products as a parameter. \n",
    "#Inside the function, implement the code for initializing the inventory dictionary using a loop and user input.\n",
    "def initialize_inventory(products):\n",
    "    # Initialize an empty inventory dictionary\n",
    "    inventory = {}\n",
    "\n",
    "    for product in products:\n",
    "        while True:\n",
    "            try:\n",
    "                # Prompt the user for the initial quantity of the product\n",
    "                quantity_input = input(f\"Enter the initial stock for {product}: \")\n",
    "                quantity = int(quantity_input)  # Convert input to an integer\n",
    "\n",
    "                if quantity < 0:\n",
    "                    raise ValueError(\"Quantity cannot be negative.\")\n",
    "\n",
    "                # Add the product and its quantity to the inventory\n",
    "                inventory[product] = quantity\n",
    "                break  # Break the loop if a valid quantity is entered\n",
    "\n",
    "            except ValueError as e:\n",
    "                print(\"Invalid input:\", e)\n",
    "                print(\"Please enter a valid, non-negative integer for the stock quantity.\")\n",
    "\n",
    "    return inventory\n",
    "\n",
    "products = [\"t-shirt\", \"mug\", \"hat\", \"book\", \"keychain\"]\n",
    "inventory = initialize_inventory(products)\n",
    "print(\"Initialized Inventory:\", inventory)"
   ]
  },
  {
   "cell_type": "code",
   "execution_count": 4,
   "id": "ab276482-efda-473a-8b75-9b34b882e64c",
   "metadata": {},
   "outputs": [
    {
     "name": "stdin",
     "output_type": "stream",
     "text": [
      "Enter a product name (or 'done' to finish):  book\n",
      "Enter a product name (or 'done' to finish):  mug\n",
      "Enter a product name (or 'done' to finish):  hat\n",
      "Enter a product name (or 'done' to finish):  done\n"
     ]
    },
    {
     "name": "stdout",
     "output_type": "stream",
     "text": [
      "{'hat', 'book', 'mug'}\n"
     ]
    }
   ],
   "source": [
    "def get_customer_orders():\n",
    "    customer_orders = set()  \n",
    "\n",
    "    while True: \n",
    "        product_name = input(\"Enter a product name (or 'done' to finish): \") \n",
    "        \n",
    "        if product_name.lower() == 'done':  \n",
    "            break\n",
    "\n",
    "        customer_orders.add(product_name)  \n",
    "\n",
    "    return customer_orders  \n",
    "\n",
    "orders = get_customer_orders()\n",
    "print(orders)"
   ]
  },
  {
   "cell_type": "code",
   "execution_count": 9,
   "id": "3ebfca79-3fcc-431a-948c-d91ccbb3dc34",
   "metadata": {},
   "outputs": [
    {
     "name": "stdout",
     "output_type": "stream",
     "text": [
      "{'t-shirt': 10, 'mug': 19, 'hat': 29, 'book': 39, 'keychain': 50}\n"
     ]
    }
   ],
   "source": [
    "def update_inventory(orders, inventory):\n",
    "    for product in orders:\n",
    "        if product in inventory:\n",
    "            if inventory[product] > 0:\n",
    "                inventory[product] -= 1\n",
    "                if inventory[product] == 0:\n",
    "                    print(f\"Note: {product} is now out of stock.\")\n",
    "            else:\n",
    "                print(f\"Warning: {product} is already out of stock.\")\n",
    "        else:\n",
    "            print(f\"Warning: {product} is not found in the inventory.\")\n",
    "    \n",
    "    return inventory\n",
    "\n",
    "updated_inventory = update_inventory(orders, inventory)\n",
    "print(updated_inventory)"
   ]
  },
  {
   "cell_type": "code",
   "execution_count": 13,
   "id": "f7fdc840-4671-4e1e-9f85-dac8303f6089",
   "metadata": {},
   "outputs": [
    {
     "name": "stdout",
     "output_type": "stream",
     "text": [
      "Total Products Ordered: 3, Percentage Unique: 60.00%\n"
     ]
    }
   ],
   "source": [
    "def calculate_order_statistics(orders, products):\n",
    "    total_products_ordered = len(orders)  \n",
    "    \n",
    "    unique_products_ordered = len(set(orders))  \n",
    "    total_available_products = len(products)  \n",
    "    \n",
    "    percentage_unique = (unique_products_ordered / total_available_products) * 100  \n",
    "    \n",
    "    return total_products_ordered, percentage_unique\n",
    "\n",
    "total_ordered, percentage_unique = calculate_order_statistics(orders, products)\n",
    "print(f\"Total Products Ordered: {total_ordered}, Percentage Unique: {percentage_unique:.2f}%\")"
   ]
  },
  {
   "cell_type": "code",
   "execution_count": 27,
   "id": "76270ddc-11ea-44d9-b1c0-ff91f32bbc3b",
   "metadata": {},
   "outputs": [
    {
     "name": "stdout",
     "output_type": "stream",
     "text": [
      "Total Products Ordered: 3\n",
      "Percentage of Unique Products Ordered: 60.00%\n"
     ]
    }
   ],
   "source": [
    "def print_order_statistics(customer_orders, products):\n",
    "    total_products_ordered, percentage_unique = calculate_order_statistics(customer_orders, products)\n",
    "\n",
    "    print(f\"Total Products Ordered: {total_products_ordered}\")\n",
    "    print(f\"Percentage of Unique Products Ordered: {percentage_unique:.2f}%\")\n",
    "\n",
    "print_order_statistics(orders, products)"
   ]
  },
  {
   "cell_type": "code",
   "execution_count": 31,
   "id": "8f9f1743-ce38-45b1-a13c-5830312a7e9f",
   "metadata": {},
   "outputs": [
    {
     "name": "stdout",
     "output_type": "stream",
     "text": [
      "Updated Inventory:\n",
      "t-shirt: 10\n",
      "mug: 19\n",
      "hat: 29\n",
      "book: 39\n",
      "keychain: 50\n"
     ]
    }
   ],
   "source": [
    "def print_updated_inventory(inventory):\n",
    "    print(\"Updated Inventory:\")\n",
    "    for product, quantity in inventory.items():\n",
    "        print(f\"{product}: {quantity}\")\n",
    "\n",
    "print_updated_inventory(inventory)"
   ]
  },
  {
   "cell_type": "code",
   "execution_count": null,
   "id": "05958d00-f0fd-48eb-9471-06c0cb3705ec",
   "metadata": {},
   "outputs": [],
   "source": []
  }
 ],
 "metadata": {
  "kernelspec": {
   "display_name": "Python [conda env:base] *",
   "language": "python",
   "name": "conda-base-py"
  },
  "language_info": {
   "codemirror_mode": {
    "name": "ipython",
    "version": 3
   },
   "file_extension": ".py",
   "mimetype": "text/x-python",
   "name": "python",
   "nbconvert_exporter": "python",
   "pygments_lexer": "ipython3",
   "version": "3.12.7"
  }
 },
 "nbformat": 4,
 "nbformat_minor": 5
}
